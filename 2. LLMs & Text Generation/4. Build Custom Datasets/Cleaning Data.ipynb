{
 "cells": [
  {
   "cell_type": "code",
   "execution_count": 1,
   "id": "4ba01149",
   "metadata": {},
   "outputs": [],
   "source": [
    "from tqdm import tqdm"
   ]
  },
  {
   "cell_type": "code",
   "execution_count": 2,
   "id": "5f55b52b",
   "metadata": {
    "scrolled": true
   },
   "outputs": [],
   "source": [
    "import requests\n",
    "import json\n",
    "from bs4 import BeautifulSoup\n",
    "import re\n",
    "from symspellpy import SymSpell, Verbosity\n",
    "import pkg_resources"
   ]
  },
  {
   "cell_type": "code",
   "execution_count": 3,
   "id": "ae4ad477",
   "metadata": {},
   "outputs": [],
   "source": [
    "# Function to fetch a page\n",
    "def fetch_page(url: str):\n",
    "    headers = {\n",
    "    'user-agent': 'Mozilla/5.0 (Macintosh; Intel Mac OS X 10_15_7) AppleWebKit/537.36 (KHTML, like Gecko) Chrome/112.0.0.0 Safari/537.36'\n",
    "    }\n",
    "    response = requests.get(url, headers=headers)\n",
    "    r = requests.get(url)\n",
    "    if r.status_code == 200:\n",
    "        return r.text\n",
    "    else:\n",
    "        print(r.status_code)\n",
    "        return r.text"
   ]
  },
  {
   "cell_type": "code",
   "execution_count": 4,
   "id": "e2787437",
   "metadata": {},
   "outputs": [],
   "source": [
    "# Get the source of the page\n",
    "# source = fetch_page(research_url)\n",
    "\n",
    "# Write the source to disk\n",
    "# with open(\"research_source.html\", \"w\") as f:\n",
    "#     f.write(source)\n",
    "    \n",
    "# Load the source from disk\n",
    "with open(\"research_source.html\", \"r\") as f:\n",
    "    source = f.read()"
   ]
  },
  {
   "cell_type": "code",
   "execution_count": 14,
   "id": "091a13ea",
   "metadata": {},
   "outputs": [
    {
     "name": "stdout",
     "output_type": "stream",
     "text": [
      "\n",
      "\n",
      "    <!DOCTYPE html>\n",
      "    <html class=\"no-js\" lang=\"en\" dir=\"ltr\">\n",
      "    <head>\n",
      "        <meta http-equiv=\"content-type\" content=\"text/html; charset=utf-8\" charset=\"utf-8\" />\n",
      "        <meta http-equiv=\"x-ua-compatible\" content=\"ie=edge\" />\n",
      "        <meta name=\"viewport\" content=\"width=device-width, initial-scale=1\" />\n",
      "            <link rel=\"preload\" href=\"//cdn.optimizely.com/js/10801744121.js\" as=\"script\">\n",
      "        <link rel=\"preconnect\" href=\"//logx.optimizely.com\">\n",
      "        <title>Meet the Research Team</title>\n",
      "\n",
      "\n",
      "            <meta property=\"og:url\" content=\"https://www.rapid7.com/research/the-minds-behind-the-research/\" />\n",
      "        <link rel=\"canonical\" href=\"https://www.rapid7.com/research/the-minds-behind-the-research/\"  />\n",
      "        <link rel=\"alternate\" href=\"https://www.rapid7.com/research/the-minds-behind-the-research/\" hreflang=\"en\" />\n",
      "\n",
      "        \n",
      "    <meta name=\"robots\" content=\"index, follow\" />\n",
      "    <meta name=\"title\" content=\"Meet the Research Team\" />\n",
      "    <meta name=\"description\" con\n"
     ]
    }
   ],
   "source": [
    "#print(source)\n",
    "print(source[:1000])"
   ]
  },
  {
   "cell_type": "code",
   "execution_count": 7,
   "id": "b123d9da",
   "metadata": {},
   "outputs": [],
   "source": [
    "# Function to condense whitespace\n",
    "def condense_newline(text):\n",
    "    return '\\n'.join([p for p in re.split('\\n|\\r', text) if len(p) > 0])\n",
    "\n",
    "# Return the body withou the tags\n",
    "def strip(body):\n",
    "    soup = BeautifulSoup(body, 'html.parser')\n",
    "    condensed_soup = condense_newline(soup.get_text(\"\\n\"))\n",
    "    return condensed_soup"
   ]
  },
  {
   "cell_type": "code",
   "execution_count": 8,
   "id": "667be895",
   "metadata": {},
   "outputs": [],
   "source": [
    "stripped_source = strip(source)"
   ]
  },
  {
   "cell_type": "code",
   "execution_count": 15,
   "id": "7855d875",
   "metadata": {},
   "outputs": [
    {
     "name": "stdout",
     "output_type": "stream",
     "text": [
      "Meet the Research Team\n",
      "Products\n",
      "Insight Platform Solutions\n",
      "XDR & SIEM\n",
      "INSIGHTIDR\n",
      "Threat Intelligence\n",
      "THREAT COMMAND\n",
      "Vulnerability Management\n",
      "INSIGHTVM\n",
      "Dynamic Application Security Testing\n",
      "INSIGHTAPPSEC\n",
      "Orchestration & Automation (SOAR)\n",
      "INSIGHTCONNECT\n",
      "Cloud Security\n",
      "INSIGHTCLOUDSEC\n",
      "More Solutions\n",
      "Penetration Testing\n",
      "METASPLOIT\n",
      "On-Prem Vulnerability Management\n",
      "NEXPOSE\n",
      "Digital Forensics and Incident Response (DFIR)\n",
      "Velociraptor\n",
      "Cloud Risk Complete\n",
      "Cloud Security with Unlimited Vulnerability Management\n",
      "Explore Offer\n",
      "Managed Threat Complete\n",
      "MDR with Unlimited Risk Coverage\n",
      "Explore offer\n",
      "Services\n",
      "MANAGED SERVICES\n",
      "Detection and Response\n",
      "24/7 MONITORING & REMEDIATION FROM MDR EXPERTS\n",
      "Vulnerability Management\n",
      "PERFECTLY OPTIMIZED RISK ASSESSMENT\n",
      "Application Security\n",
      "SCAN MANAGEMENT & VULNERABILITY VALIDATION\n",
      "OTHER SERVICES\n",
      "Security Advisory Services\n",
      "PLAN, BUILD, & PRIORITIZE SECURITY INITIATIVES\n",
      "Product Consulting\n",
      "QUICK-START & CONFIGURATION\n",
      "Training & Certification\n",
      "SKILLS & ADVANCEMENT\n",
      "Penetrat\n"
     ]
    }
   ],
   "source": [
    "#print(stripped_source)\n",
    "print(stripped_source[:1000])"
   ]
  },
  {
   "cell_type": "code",
   "execution_count": 16,
   "id": "3b8c6eae",
   "metadata": {},
   "outputs": [],
   "source": [
    "# Returns the text in a list based on specified tags\n",
    "def parse_html(html_source):\n",
    "    soup = BeautifulSoup(html_source, 'html.parser')\n",
    "\n",
    "    # Get text from the specified tags. Add more tags if necessary.\n",
    "    TAGS = ['div']\n",
    "    condensed_list = [condense_newline(tag.text) for tag in soup.findAll(TAGS, {\"class\": \"bio_content\"})]\n",
    "    return condensed_list"
   ]
  },
  {
   "cell_type": "code",
   "execution_count": 17,
   "id": "46277b67",
   "metadata": {},
   "outputs": [],
   "source": [
    "parsed_source = parse_html(source)"
   ]
  },
  {
   "cell_type": "code",
   "execution_count": 23,
   "id": "a04c7887",
   "metadata": {},
   "outputs": [
    {
     "name": "stdout",
     "output_type": "stream",
     "text": [
      "20\n",
      "['Tas Giakouminakis\\nCo-Founder & Chief Technology Officer\\nView Bio', \"Tas Giakouminakis\\nCo-Founder & Chief Technology Officer\\nTas leads the development and integration of Rapid7’s award-winning solutions, driving the technical direction to enable customers through quality, simplicity, and innovation. Prior to founding Rapid7, Tas helped form Percussion Software, where he led the development of Percussion's first product. He has also developed software in the security and risk areas for CitiCorp.\"]\n"
     ]
    }
   ],
   "source": [
    "print(len(parsed_source))\n",
    "#print(parsed_source)\n",
    "print(parsed_source[:2])"
   ]
  },
  {
   "cell_type": "code",
   "execution_count": 24,
   "id": "d676a833",
   "metadata": {},
   "outputs": [
    {
     "name": "stdout",
     "output_type": "stream",
     "text": [
      "Erick Galinkin \n",
      "Principal Artificial Intelligence Researcher \n",
      "View Bio\n",
      "\n",
      "Erick Galinkin \n",
      "Principal Artificial Intelligence Researcher \n",
      "Erick Galinkin is a hacker and artificial intelligence researcher whose passion is in finding ways to both apply AI to security and apply security to AI. His experience spans the spectrum of information security, including threat intelligence, vulnerability discovery, data science, and malware analysis. As part of Rapid7’s OCTO Team, he conducts research and informs policy on the cybersecurity implications of artificial intelligence. Erick has presented his research at leading industry and academic conferences and actively writes papers for academic journals. Outside of Rapid7, Erick does research on the theory of deep learning and privacy preserving machine learning while pursuing his PhD at Drexel University.\n",
      "\n"
     ]
    }
   ],
   "source": [
    "# Finding specific data\n",
    "for bio in parsed_source:\n",
    "    if \"Erick Galinkin\" in bio:\n",
    "        print(f\"{bio}\\n\")"
   ]
  },
  {
   "cell_type": "code",
   "execution_count": 25,
   "id": "dfc7d55b",
   "metadata": {},
   "outputs": [
    {
     "name": "stdout",
     "output_type": "stream",
     "text": [
      "Erick Galinkin is a hacker and artificial intelligence researcher whose passion is in finding ways to both apply AI to security and apply security to AI. His experience spans the spectrum of information security, including threat intelligence, vulnerability discovery, data science, and malware analysis. As part of Rapid7’s OCTO Team, he conducts research and informs policy on the cybersecurity implications of artificial intelligence. Erick has presented his research at leading industry and academic conferences and actively writes papers for academic journals. Outside of Rapid7, Erick does research on the theory of deep learning and privacy preserving machine learning while pursuing his PhD at Drexel University.\n"
     ]
    }
   ],
   "source": [
    "for bio in parsed_source:\n",
    "    # Split by newline\n",
    "    sections = bio.split(\"\\n\")\n",
    "    # The full bio is the last section\n",
    "    full_bio = sections[-1]\n",
    "    if \"Erick Galinkin\" in full_bio:\n",
    "        print(full_bio)"
   ]
  },
  {
   "cell_type": "code",
   "execution_count": 26,
   "id": "aed08433",
   "metadata": {},
   "outputs": [
    {
     "name": "stdout",
     "output_type": "stream",
     "text": [
      "Erick Galinkin is a hacker and artificial intelligence researcher whose passion is in finding ways to both apply AI to security and apply security to AI. His experience spans the spectrum of information security, including threat intelligence, vulnerability discovery, data science, and malware analysis. As part of Rapid7’s OCTO Team, he conducts research and informs policy on the cybersecurity implications of artificial intelligence. Erick has presented his research at leading industry and academic conferences and actively writes papers for academic journals. Outside of Rapid7, Erick does research on the theory of deep learning and privacy preserving machine learning while pursuing his PhD at Drexel University.\n"
     ]
    }
   ],
   "source": [
    "# Collect full bios by excluding short passages\n",
    "full_bios = [bio.split(\"\\n\")[-1] for bio in parsed_source if len(bio.split(\"\\n\")[-1]) > 50]\n",
    "erick_bio = full_bios[4]\n",
    "print(erick_bio)"
   ]
  },
  {
   "cell_type": "code",
   "execution_count": 27,
   "id": "245c57e5",
   "metadata": {},
   "outputs": [],
   "source": [
    "mangled_bio = \"Erick Galinkin is a hackr and artificial intelligence researcher whose passion is in finding ways to both apply AI to security and apply security to AI. His experience spans the spectrum of information security, including threat intelligence, vulnerability discvery, data science, and malware analysis. As part of Rapid7’s OCTO Team, he coonducts resaerch and informs policy on the cybersecurity implications of artificial intelligence.Erick has presented his research at leading industry and academic conferences and actively writes papers for academic journals. Outside of Rapid7, Erick does research on the theory of deep learning and privacy preserving machine learning while persuing his PhD at Drexel University.\""
   ]
  },
  {
   "cell_type": "code",
   "execution_count": 28,
   "id": "8e944fda",
   "metadata": {},
   "outputs": [
    {
     "name": "stdout",
     "output_type": "stream",
     "text": [
      "Erick Galinkin is a hackr and artificial intelligence researcher whose passion is in finding ways to both apply AI to security and apply security to AI. His experience spans the spectrum of information security, including threat intelligence, vulnerability discvery, data science, and malware analysis. As part of Rapid7’s OCTO Team, he coonducts resaerch and informs policy on the cybersecurity implications of artificial intelligence.Erick has presented his research at leading industry and academic conferences and actively writes papers for academic journals. Outside of Rapid7, Erick does research on the theory of deep learning and privacy preserving machine learning while persuing his PhD at Drexel University.\n"
     ]
    }
   ],
   "source": [
    "print(mangled_bio)"
   ]
  },
  {
   "cell_type": "code",
   "execution_count": 29,
   "id": "0e989227",
   "metadata": {},
   "outputs": [],
   "source": [
    "# Find potential misspellings\n",
    "# Create our SymSpell object\n",
    "speller = SymSpell(max_dictionary_edit_distance=2, prefix_length=7)"
   ]
  },
  {
   "cell_type": "code",
   "execution_count": 30,
   "id": "831979bc",
   "metadata": {},
   "outputs": [
    {
     "data": {
      "text/plain": [
       "True"
      ]
     },
     "execution_count": 30,
     "metadata": {},
     "output_type": "execute_result"
    }
   ],
   "source": [
    "# Load the dictionary included in symspellpy using pkg_resources\n",
    "# The structure of the file has to specify when the file is split, whether the term or the count comes first.\n",
    "dictionary_path = pkg_resources.resource_filename(\"symspellpy\", \"frequency_dictionary_en_82_765.txt\")\n",
    "speller.load_dictionary(dictionary_path, term_index=0, count_index=1)"
   ]
  },
  {
   "cell_type": "code",
   "execution_count": 34,
   "id": "88bfd4aa",
   "metadata": {},
   "outputs": [
    {
     "name": "stdout",
     "output_type": "stream",
     "text": [
      "rick, 1, 13822320\n",
      "kalinin, 2, 43493\n",
      "is, 0, 4705743816\n",
      "a, 0, 9081174698\n",
      "hacker, 1, 10105645\n",
      "and, 0, 12997637966\n",
      "artificial, 0, 10603435\n",
      "intelligence, 0, 31533328\n",
      "researcher, 0, 5982544\n",
      "whose, 0, 43634263\n",
      "passion, 0, 13370569\n",
      "is, 0, 4705743816\n",
      "in, 0, 8469404971\n",
      "finding, 0, 37102510\n",
      "ways, 0, 58114465\n",
      "to, 0, 12136980858\n",
      "both, 0, 228648541\n",
      "apply, 0, 76341478\n",
      "of, 2, 13151942776\n",
      "to, 0, 12136980858\n",
      "security, 0, 230014019\n",
      "and, 0, 12997637966\n",
      "apply, 0, 76341478\n",
      "security, 0, 230014019\n",
      "to, 0, 12136980858\n",
      "is, 1, 4705743816\n",
      "experience, 0, 137134662\n",
      "spans, 0, 1675632\n",
      "the, 0, 23135851162\n",
      "spectrum, 0, 15371128\n",
      "of, 0, 13151942776\n",
      "information, 0, 932594387\n",
      "security, 1, 230014019\n",
      "including, 0, 214195457\n",
      "threat, 0, 18546277\n",
      "intelligence, 1, 31533328\n",
      "vulnerability, 0, 9013560\n",
      "discovery, 2, 22709821\n",
      "data, 0, 406908328\n",
      "science, 1, 174232809\n",
      "and, 0, 12997637966\n",
      "malware, 0, 2071152\n",
      "analysis, 1, 124949540\n",
      "is, 1, 4705743816\n",
      "part, 0, 302729303\n",
      "of, 0, 13151942776\n",
      "team, 2, 171687825\n",
      "he, 0, 842847219\n",
      "conducts, 1, 2454368\n",
      "research, 1, 311538382\n",
      "and, 0, 12997637966\n",
      "informs, 0, 1720738\n",
      "policy, 0, 384401868\n",
      "on, 0, 3750423199\n",
      "the, 0, 23135851162\n",
      "implications, 0, 13188157\n",
      "of, 0, 13151942776\n",
      "artificial, 0, 10603435\n",
      "has, 0, 1046319984\n",
      "presented, 0, 46729648\n",
      "his, 0, 660177731\n",
      "research, 0, 311538382\n",
      "at, 0, 2272272772\n",
      "leading, 0, 56201501\n",
      "industry, 0, 160812623\n",
      "and, 0, 12997637966\n",
      "academic, 0, 54886061\n",
      "conferences, 0, 18624807\n",
      "and, 0, 12997637966\n",
      "actively, 0, 8430340\n",
      "writes, 0, 14276954\n",
      "papers, 0, 51024682\n",
      "for, 0, 5933321709\n",
      "academic, 0, 54886061\n",
      "journals, 1, 21443275\n",
      "outside, 1, 67415846\n",
      "of, 0, 13151942776\n",
      "rick, 1, 13822320\n",
      "does, 0, 314018806\n",
      "research, 0, 311538382\n",
      "on, 0, 3750423199\n",
      "the, 0, 23135851162\n",
      "theory, 0, 50276653\n",
      "of, 0, 13151942776\n",
      "deep, 0, 53447410\n",
      "learning, 0, 117672845\n",
      "and, 0, 12997637966\n",
      "privacy, 0, 333272427\n",
      "preserving, 0, 3719018\n",
      "machine, 0, 69665958\n",
      "learning, 0, 117672845\n",
      "while, 0, 226194991\n",
      "pursuing, 1, 4100131\n",
      "his, 0, 660177731\n",
      "the, 2, 23135851162\n",
      "at, 0, 2272272772\n",
      "reel, 2, 6687134\n",
      "university, 2, 311373936\n"
     ]
    }
   ],
   "source": [
    "# Check each word in the mangled bio\n",
    "for word in mangled_bio.split(\" \"):\n",
    "    # Show the closest words that are at most two characters different and \n",
    "    # if there is no correction within the edit distance, return an empty list.\n",
    "    suggestions = speller.lookup(word, Verbosity.CLOSEST, max_edit_distance=2, include_unknown=False)\n",
    "    for suggestion in suggestions:\n",
    "        print(suggestion)\n",
    "        break"
   ]
  },
  {
   "cell_type": "code",
   "execution_count": 35,
   "id": "7418f545",
   "metadata": {},
   "outputs": [
    {
     "name": "stdout",
     "output_type": "stream",
     "text": [
      "erick kalinin is a hacker and artificial intelligence researcher whose passion is in finding ways to both apply a to security and apply security to a his experience spans the spectrum of information security including threat intelligence vulnerability discovery data science and malware analysis as part of rapids oct team he conducts research and informs policy on the cube security implications of artificial intelligence erick has presented his research at leading industry and academic conferences and actively writes papers for academic journals outside of rapid erick does research on the theory of deep learning and privacy preserving machine learning while pursuing his pad at diesel university, 47, 0\n"
     ]
    }
   ],
   "source": [
    "# Run the lookup over the whole string\n",
    "suggestions = speller.lookup_compound(mangled_bio, max_edit_distance=2)\n",
    "for suggestion in suggestions:\n",
    "    print(suggestion)"
   ]
  },
  {
   "cell_type": "code",
   "execution_count": 36,
   "id": "d2cc2e91",
   "metadata": {},
   "outputs": [
    {
     "name": "stdout",
     "output_type": "stream",
     "text": [
      "Erick, 0, 1\n",
      "Galinkin, 0, 1\n",
      "is, 0, 4705743816\n",
      "a, 0, 9081174698\n",
      "hacker, 1, 10105645\n",
      "and, 0, 12997637966\n",
      "artificial, 0, 10603435\n",
      "intelligence, 0, 31533328\n",
      "researcher, 0, 5982544\n",
      "whose, 0, 43634263\n",
      "passion, 0, 13370569\n",
      "is, 0, 4705743816\n",
      "in, 0, 8469404971\n",
      "finding, 0, 37102510\n",
      "ways, 0, 58114465\n",
      "to, 0, 12136980858\n",
      "both, 0, 228648541\n",
      "apply, 0, 76341478\n",
      "AI, 0, 1\n",
      "to, 0, 12136980858\n",
      "security, 0, 230014019\n",
      "and, 0, 12997637966\n",
      "apply, 0, 76341478\n",
      "security, 0, 230014019\n",
      "to, 0, 12136980858\n",
      "AI., 0, 1\n",
      "His, 0, 1\n",
      "experience, 0, 137134662\n",
      "spans, 0, 1675632\n",
      "the, 0, 23135851162\n",
      "spectrum, 0, 15371128\n",
      "of, 0, 13151942776\n",
      "information, 0, 932594387\n",
      "security, 1, 230014019\n",
      "including, 0, 214195457\n",
      "threat, 0, 18546277\n",
      "intelligence, 1, 31533328\n",
      "vulnerability, 0, 9013560\n",
      "discovery, 2, 22709821\n",
      "data, 0, 406908328\n",
      "science, 1, 174232809\n",
      "and, 0, 12997637966\n",
      "malware, 0, 2071152\n",
      "analysis, 1, 124949540\n",
      "As, 0, 1\n",
      "part, 0, 302729303\n",
      "of, 0, 13151942776\n",
      "Rapid7’s, 0, 1\n",
      "OCTO, 0, 1\n",
      "Team,, 0, 1\n",
      "he, 0, 842847219\n",
      "conducts, 1, 2454368\n",
      "research, 1, 311538382\n",
      "and, 0, 12997637966\n",
      "informs, 0, 1720738\n",
      "policy, 0, 384401868\n",
      "on, 0, 3750423199\n",
      "the, 0, 23135851162\n",
      "cybersecurity, 3, 0\n",
      "implications, 0, 13188157\n",
      "of, 0, 13151942776\n",
      "artificial, 0, 10603435\n",
      "intelligence.Erick, 3, 0\n",
      "has, 0, 1046319984\n",
      "presented, 0, 46729648\n",
      "his, 0, 660177731\n",
      "research, 0, 311538382\n",
      "at, 0, 2272272772\n",
      "leading, 0, 56201501\n",
      "industry, 0, 160812623\n",
      "and, 0, 12997637966\n",
      "academic, 0, 54886061\n",
      "conferences, 0, 18624807\n",
      "and, 0, 12997637966\n",
      "actively, 0, 8430340\n",
      "writes, 0, 14276954\n",
      "papers, 0, 51024682\n",
      "for, 0, 5933321709\n",
      "academic, 0, 54886061\n",
      "journals, 1, 21443275\n",
      "Outside, 0, 1\n",
      "of, 0, 13151942776\n",
      "Rapid7,, 0, 1\n",
      "Erick, 0, 1\n",
      "does, 0, 314018806\n",
      "research, 0, 311538382\n",
      "on, 0, 3750423199\n",
      "the, 0, 23135851162\n",
      "theory, 0, 50276653\n",
      "of, 0, 13151942776\n",
      "deep, 0, 53447410\n",
      "learning, 0, 117672845\n",
      "and, 0, 12997637966\n",
      "privacy, 0, 333272427\n",
      "preserving, 0, 3719018\n",
      "machine, 0, 69665958\n",
      "learning, 0, 117672845\n",
      "while, 0, 226194991\n",
      "pursuing, 1, 4100131\n",
      "his, 0, 660177731\n",
      "PhD, 0, 1\n",
      "at, 0, 2272272772\n",
      "Drexel, 0, 1\n",
      "University., 0, 1\n"
     ]
    }
   ],
   "source": [
    "# Check each word in the mangled bio\n",
    "for word in mangled_bio.split(\" \"):\n",
    "    # Exclude correcting words that start with an upper case letter\n",
    "    suggestions = speller.lookup(word, Verbosity.CLOSEST, max_edit_distance=2, ignore_token=r\"[A-Z]\\w+\", include_unknown=True)\n",
    "    for suggestion in suggestions:\n",
    "        print(suggestion)\n",
    "        break"
   ]
  },
  {
   "cell_type": "code",
   "execution_count": 37,
   "id": "7f6c80e0",
   "metadata": {},
   "outputs": [],
   "source": [
    "bio_list = list()\n",
    "# Check each word in the mangled bio\n",
    "for word in mangled_bio.split(\" \"):\n",
    "    # Exclude correcting words that start with an upper case letter\n",
    "    # Set include unknown to True so we return the original word\n",
    "    suggestions = speller.lookup(word, Verbosity.CLOSEST, max_edit_distance=2, ignore_token=r\"[A-Z]\\w+\", \n",
    "                                 include_unknown=True)\n",
    "    # Append the most probable suggestion term to bio_list\n",
    "    bio_list.append(suggestions[0].term)\n",
    "    \n",
    "# Convert bio_list to string\n",
    "corrected_bio = \" \".join(bio_list)"
   ]
  },
  {
   "cell_type": "code",
   "execution_count": 38,
   "id": "cd519331",
   "metadata": {},
   "outputs": [
    {
     "name": "stdout",
     "output_type": "stream",
     "text": [
      "====erick_bio==== \n",
      "\n",
      "Erick Galinkin is a hacker and artificial intelligence researcher whose passion is in finding ways to both apply AI to security and apply security to AI. His experience spans the spectrum of information security, including threat intelligence, vulnerability discovery, data science, and malware analysis. As part of Rapid7’s OCTO Team, he conducts research and informs policy on the cybersecurity implications of artificial intelligence. Erick has presented his research at leading industry and academic conferences and actively writes papers for academic journals. Outside of Rapid7, Erick does research on the theory of deep learning and privacy preserving machine learning while pursuing his PhD at Drexel University.\n",
      "\n",
      " ====mangled_bio==== \n",
      "\n",
      "Erick Galinkin is a hackr and artificial intelligence researcher whose passion is in finding ways to both apply AI to security and apply security to AI. His experience spans the spectrum of information security, including threat intelligence, vulnerability discvery, data science, and malware analysis. As part of Rapid7’s OCTO Team, he coonducts resaerch and informs policy on the cybersecurity implications of artificial intelligence.Erick has presented his research at leading industry and academic conferences and actively writes papers for academic journals. Outside of Rapid7, Erick does research on the theory of deep learning and privacy preserving machine learning while persuing his PhD at Drexel University.\n",
      "\n",
      " ====corrected_bio==== \n",
      "\n",
      "Erick Galinkin is a hacker and artificial intelligence researcher whose passion is in finding ways to both apply AI to security and apply security to AI. His experience spans the spectrum of information security including threat intelligence vulnerability discovery data science and malware analysis As part of Rapid7’s OCTO Team, he conducts research and informs policy on the cybersecurity implications of artificial intelligence.Erick has presented his research at leading industry and academic conferences and actively writes papers for academic journals Outside of Rapid7, Erick does research on the theory of deep learning and privacy preserving machine learning while pursuing his PhD at Drexel University.\n"
     ]
    }
   ],
   "source": [
    "print('====erick_bio====','\\n')\n",
    "print(erick_bio)\n",
    "print('\\n','====mangled_bio====','\\n')\n",
    "print(mangled_bio)\n",
    "print('\\n','====corrected_bio====','\\n')\n",
    "print(corrected_bio)"
   ]
  },
  {
   "cell_type": "code",
   "execution_count": null,
   "id": "49df43a9",
   "metadata": {},
   "outputs": [],
   "source": []
  }
 ],
 "metadata": {
  "kernelspec": {
   "display_name": "Python 3 (ipykernel)",
   "language": "python",
   "name": "python3"
  },
  "language_info": {
   "codemirror_mode": {
    "name": "ipython",
    "version": 3
   },
   "file_extension": ".py",
   "mimetype": "text/x-python",
   "name": "python",
   "nbconvert_exporter": "python",
   "pygments_lexer": "ipython3",
   "version": "3.10.13"
  }
 },
 "nbformat": 4,
 "nbformat_minor": 5
}
