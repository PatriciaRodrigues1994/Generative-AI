{
 "cells": [
  {
   "cell_type": "markdown",
   "id": "124e5672",
   "metadata": {},
   "source": [
    "# Custom Chatbot Project"
   ]
  },
  {
   "cell_type": "markdown",
   "id": "2a4a94b3",
   "metadata": {},
   "source": [
    "TODO: In this cell, write an explanation of which dataset you have chosen and why it is appropriate for this task\n",
    "\n",
    "- I have taken this dataset named \"2023_fashion_trends.csv\" provided in the udacity workspace under \"data\" folder. \n",
    "- As under this project we are going to demonstrate the use of custom dataset with an LLM by using the technique called RAG(Retrieval Augmented Generation). So using this dataset would be appropiate because originally as we know that the OpenAI model **\"gpt-3.5-turbo-instruct\"** has the knowledge only upto year 2022. \n",
    "- Thus by making use of this dataset from 2023 we can ideally showcase the use of RAG with an LLM"
   ]
  },
  {
   "cell_type": "markdown",
   "id": "a63d4c5f",
   "metadata": {},
   "source": [
    "## Data Wrangling\n",
    "\n",
    "TODO: In the cells below, load your chosen dataset into a `pandas` dataframe with a column named `\"text\"`. This column should contain all of your text data, separated into at least 20 rows."
   ]
  },
  {
   "cell_type": "code",
   "execution_count": 3,
   "id": "c69b83a1",
   "metadata": {},
   "outputs": [],
   "source": [
    "import pandas as pd"
   ]
  },
  {
   "cell_type": "code",
   "execution_count": 5,
   "id": "0a595980",
   "metadata": {},
   "outputs": [
    {
     "name": "stdout",
     "output_type": "stream",
     "text": [
      "<class 'pandas.core.frame.DataFrame'>\n",
      "RangeIndex: 82 entries, 0 to 81\n",
      "Data columns (total 3 columns):\n",
      " #   Column  Non-Null Count  Dtype \n",
      "---  ------  --------------  ----- \n",
      " 0   URL     82 non-null     object\n",
      " 1   Trends  82 non-null     object\n",
      " 2   Source  82 non-null     object\n",
      "dtypes: object(3)\n",
      "memory usage: 2.0+ KB\n"
     ]
    }
   ],
   "source": [
    "df = pd.read_csv(\"data/2023_fashion_trends.csv\")\n",
    "df.info()"
   ]
  },
  {
   "cell_type": "code",
   "execution_count": 6,
   "id": "acb3a9fd",
   "metadata": {},
   "outputs": [
    {
     "data": {
      "text/html": [
       "<div>\n",
       "<style scoped>\n",
       "    .dataframe tbody tr th:only-of-type {\n",
       "        vertical-align: middle;\n",
       "    }\n",
       "\n",
       "    .dataframe tbody tr th {\n",
       "        vertical-align: top;\n",
       "    }\n",
       "\n",
       "    .dataframe thead th {\n",
       "        text-align: right;\n",
       "    }\n",
       "</style>\n",
       "<table border=\"1\" class=\"dataframe\">\n",
       "  <thead>\n",
       "    <tr style=\"text-align: right;\">\n",
       "      <th></th>\n",
       "      <th>URL</th>\n",
       "      <th>Trends</th>\n",
       "      <th>Source</th>\n",
       "    </tr>\n",
       "  </thead>\n",
       "  <tbody>\n",
       "    <tr>\n",
       "      <th>0</th>\n",
       "      <td>https://www.refinery29.com/en-us/fashion-trend...</td>\n",
       "      <td>2023 Fashion Trend: Red. Glossy red hues took ...</td>\n",
       "      <td>7 Fashion Trends That Will Take Over 2023 — Sh...</td>\n",
       "    </tr>\n",
       "    <tr>\n",
       "      <th>1</th>\n",
       "      <td>https://www.refinery29.com/en-us/fashion-trend...</td>\n",
       "      <td>2023 Fashion Trend: Cargo Pants. Utilitarian w...</td>\n",
       "      <td>7 Fashion Trends That Will Take Over 2023 — Sh...</td>\n",
       "    </tr>\n",
       "    <tr>\n",
       "      <th>2</th>\n",
       "      <td>https://www.refinery29.com/en-us/fashion-trend...</td>\n",
       "      <td>2023 Fashion Trend: Sheer Clothing. \"Bare it a...</td>\n",
       "      <td>7 Fashion Trends That Will Take Over 2023 — Sh...</td>\n",
       "    </tr>\n",
       "    <tr>\n",
       "      <th>3</th>\n",
       "      <td>https://www.refinery29.com/en-us/fashion-trend...</td>\n",
       "      <td>2023 Fashion Trend: Denim Reimagined. From dou...</td>\n",
       "      <td>7 Fashion Trends That Will Take Over 2023 — Sh...</td>\n",
       "    </tr>\n",
       "    <tr>\n",
       "      <th>4</th>\n",
       "      <td>https://www.refinery29.com/en-us/fashion-trend...</td>\n",
       "      <td>2023 Fashion Trend: Shine For The Daytime. The...</td>\n",
       "      <td>7 Fashion Trends That Will Take Over 2023 — Sh...</td>\n",
       "    </tr>\n",
       "  </tbody>\n",
       "</table>\n",
       "</div>"
      ],
      "text/plain": [
       "                                                 URL  \\\n",
       "0  https://www.refinery29.com/en-us/fashion-trend...   \n",
       "1  https://www.refinery29.com/en-us/fashion-trend...   \n",
       "2  https://www.refinery29.com/en-us/fashion-trend...   \n",
       "3  https://www.refinery29.com/en-us/fashion-trend...   \n",
       "4  https://www.refinery29.com/en-us/fashion-trend...   \n",
       "\n",
       "                                              Trends  \\\n",
       "0  2023 Fashion Trend: Red. Glossy red hues took ...   \n",
       "1  2023 Fashion Trend: Cargo Pants. Utilitarian w...   \n",
       "2  2023 Fashion Trend: Sheer Clothing. \"Bare it a...   \n",
       "3  2023 Fashion Trend: Denim Reimagined. From dou...   \n",
       "4  2023 Fashion Trend: Shine For The Daytime. The...   \n",
       "\n",
       "                                              Source  \n",
       "0  7 Fashion Trends That Will Take Over 2023 — Sh...  \n",
       "1  7 Fashion Trends That Will Take Over 2023 — Sh...  \n",
       "2  7 Fashion Trends That Will Take Over 2023 — Sh...  \n",
       "3  7 Fashion Trends That Will Take Over 2023 — Sh...  \n",
       "4  7 Fashion Trends That Will Take Over 2023 — Sh...  "
      ]
     },
     "execution_count": 6,
     "metadata": {},
     "output_type": "execute_result"
    }
   ],
   "source": [
    "df.head()"
   ]
  },
  {
   "cell_type": "code",
   "execution_count": 11,
   "id": "04537ed7",
   "metadata": {},
   "outputs": [
    {
     "name": "stdout",
     "output_type": "stream",
     "text": [
      "https://www.refinery29.com/en-us/fashion-trends-2023\n",
      "2023 Fashion Trend: Red. Glossy red hues took over the Fall 2023 runways ranging from Sandy Liang and PatBo to Tory Burch and Wiederhoeft. Think: Juicy reds with vibrant orange undertones that would look just as good in head-to-toe looks (see: a pantsuit) as accent accessory pieces (shoes, handbags, jewelry).\n",
      "7 Fashion Trends That Will Take Over 2023 — Shop Them Now\n"
     ]
    }
   ],
   "source": [
    "print(df.iloc[0][\"URL\"])\n",
    "print(df.iloc[0][\"Trends\"])\n",
    "print(df.iloc[0][\"Source\"])"
   ]
  },
  {
   "cell_type": "code",
   "execution_count": 12,
   "id": "0df86b34",
   "metadata": {},
   "outputs": [
    {
     "name": "stdout",
     "output_type": "stream",
     "text": [
      "<class 'pandas.core.frame.DataFrame'>\n",
      "RangeIndex: 82 entries, 0 to 81\n",
      "Data columns (total 4 columns):\n",
      " #   Column  Non-Null Count  Dtype \n",
      "---  ------  --------------  ----- \n",
      " 0   URL     82 non-null     object\n",
      " 1   Trends  82 non-null     object\n",
      " 2   Source  82 non-null     object\n",
      " 3   text    82 non-null     object\n",
      "dtypes: object(4)\n",
      "memory usage: 2.7+ KB\n"
     ]
    }
   ],
   "source": [
    "df[\"text\"] = df[\"Trends\"]\n",
    "df.info()"
   ]
  },
  {
   "cell_type": "code",
   "execution_count": 13,
   "id": "8845b02e",
   "metadata": {},
   "outputs": [
    {
     "data": {
      "text/html": [
       "<div>\n",
       "<style scoped>\n",
       "    .dataframe tbody tr th:only-of-type {\n",
       "        vertical-align: middle;\n",
       "    }\n",
       "\n",
       "    .dataframe tbody tr th {\n",
       "        vertical-align: top;\n",
       "    }\n",
       "\n",
       "    .dataframe thead th {\n",
       "        text-align: right;\n",
       "    }\n",
       "</style>\n",
       "<table border=\"1\" class=\"dataframe\">\n",
       "  <thead>\n",
       "    <tr style=\"text-align: right;\">\n",
       "      <th></th>\n",
       "      <th>URL</th>\n",
       "      <th>Trends</th>\n",
       "      <th>Source</th>\n",
       "      <th>text</th>\n",
       "    </tr>\n",
       "  </thead>\n",
       "  <tbody>\n",
       "    <tr>\n",
       "      <th>0</th>\n",
       "      <td>https://www.refinery29.com/en-us/fashion-trend...</td>\n",
       "      <td>2023 Fashion Trend: Red. Glossy red hues took ...</td>\n",
       "      <td>7 Fashion Trends That Will Take Over 2023 — Sh...</td>\n",
       "      <td>2023 Fashion Trend: Red. Glossy red hues took ...</td>\n",
       "    </tr>\n",
       "    <tr>\n",
       "      <th>1</th>\n",
       "      <td>https://www.refinery29.com/en-us/fashion-trend...</td>\n",
       "      <td>2023 Fashion Trend: Cargo Pants. Utilitarian w...</td>\n",
       "      <td>7 Fashion Trends That Will Take Over 2023 — Sh...</td>\n",
       "      <td>2023 Fashion Trend: Cargo Pants. Utilitarian w...</td>\n",
       "    </tr>\n",
       "    <tr>\n",
       "      <th>2</th>\n",
       "      <td>https://www.refinery29.com/en-us/fashion-trend...</td>\n",
       "      <td>2023 Fashion Trend: Sheer Clothing. \"Bare it a...</td>\n",
       "      <td>7 Fashion Trends That Will Take Over 2023 — Sh...</td>\n",
       "      <td>2023 Fashion Trend: Sheer Clothing. \"Bare it a...</td>\n",
       "    </tr>\n",
       "    <tr>\n",
       "      <th>3</th>\n",
       "      <td>https://www.refinery29.com/en-us/fashion-trend...</td>\n",
       "      <td>2023 Fashion Trend: Denim Reimagined. From dou...</td>\n",
       "      <td>7 Fashion Trends That Will Take Over 2023 — Sh...</td>\n",
       "      <td>2023 Fashion Trend: Denim Reimagined. From dou...</td>\n",
       "    </tr>\n",
       "    <tr>\n",
       "      <th>4</th>\n",
       "      <td>https://www.refinery29.com/en-us/fashion-trend...</td>\n",
       "      <td>2023 Fashion Trend: Shine For The Daytime. The...</td>\n",
       "      <td>7 Fashion Trends That Will Take Over 2023 — Sh...</td>\n",
       "      <td>2023 Fashion Trend: Shine For The Daytime. The...</td>\n",
       "    </tr>\n",
       "  </tbody>\n",
       "</table>\n",
       "</div>"
      ],
      "text/plain": [
       "                                                 URL  \\\n",
       "0  https://www.refinery29.com/en-us/fashion-trend...   \n",
       "1  https://www.refinery29.com/en-us/fashion-trend...   \n",
       "2  https://www.refinery29.com/en-us/fashion-trend...   \n",
       "3  https://www.refinery29.com/en-us/fashion-trend...   \n",
       "4  https://www.refinery29.com/en-us/fashion-trend...   \n",
       "\n",
       "                                              Trends  \\\n",
       "0  2023 Fashion Trend: Red. Glossy red hues took ...   \n",
       "1  2023 Fashion Trend: Cargo Pants. Utilitarian w...   \n",
       "2  2023 Fashion Trend: Sheer Clothing. \"Bare it a...   \n",
       "3  2023 Fashion Trend: Denim Reimagined. From dou...   \n",
       "4  2023 Fashion Trend: Shine For The Daytime. The...   \n",
       "\n",
       "                                              Source  \\\n",
       "0  7 Fashion Trends That Will Take Over 2023 — Sh...   \n",
       "1  7 Fashion Trends That Will Take Over 2023 — Sh...   \n",
       "2  7 Fashion Trends That Will Take Over 2023 — Sh...   \n",
       "3  7 Fashion Trends That Will Take Over 2023 — Sh...   \n",
       "4  7 Fashion Trends That Will Take Over 2023 — Sh...   \n",
       "\n",
       "                                                text  \n",
       "0  2023 Fashion Trend: Red. Glossy red hues took ...  \n",
       "1  2023 Fashion Trend: Cargo Pants. Utilitarian w...  \n",
       "2  2023 Fashion Trend: Sheer Clothing. \"Bare it a...  \n",
       "3  2023 Fashion Trend: Denim Reimagined. From dou...  \n",
       "4  2023 Fashion Trend: Shine For The Daytime. The...  "
      ]
     },
     "execution_count": 13,
     "metadata": {},
     "output_type": "execute_result"
    }
   ],
   "source": [
    "df.head()"
   ]
  },
  {
   "cell_type": "code",
   "execution_count": 16,
   "id": "e0ec172a",
   "metadata": {},
   "outputs": [
    {
     "data": {
      "text/html": [
       "<div>\n",
       "<style scoped>\n",
       "    .dataframe tbody tr th:only-of-type {\n",
       "        vertical-align: middle;\n",
       "    }\n",
       "\n",
       "    .dataframe tbody tr th {\n",
       "        vertical-align: top;\n",
       "    }\n",
       "\n",
       "    .dataframe thead th {\n",
       "        text-align: right;\n",
       "    }\n",
       "</style>\n",
       "<table border=\"1\" class=\"dataframe\">\n",
       "  <thead>\n",
       "    <tr style=\"text-align: right;\">\n",
       "      <th></th>\n",
       "      <th>text</th>\n",
       "    </tr>\n",
       "  </thead>\n",
       "  <tbody>\n",
       "    <tr>\n",
       "      <th>0</th>\n",
       "      <td>2023 Fashion Trend: Red. Glossy red hues took ...</td>\n",
       "    </tr>\n",
       "    <tr>\n",
       "      <th>1</th>\n",
       "      <td>2023 Fashion Trend: Cargo Pants. Utilitarian w...</td>\n",
       "    </tr>\n",
       "    <tr>\n",
       "      <th>2</th>\n",
       "      <td>2023 Fashion Trend: Sheer Clothing. \"Bare it a...</td>\n",
       "    </tr>\n",
       "    <tr>\n",
       "      <th>3</th>\n",
       "      <td>2023 Fashion Trend: Denim Reimagined. From dou...</td>\n",
       "    </tr>\n",
       "    <tr>\n",
       "      <th>4</th>\n",
       "      <td>2023 Fashion Trend: Shine For The Daytime. The...</td>\n",
       "    </tr>\n",
       "  </tbody>\n",
       "</table>\n",
       "</div>"
      ],
      "text/plain": [
       "                                                text\n",
       "0  2023 Fashion Trend: Red. Glossy red hues took ...\n",
       "1  2023 Fashion Trend: Cargo Pants. Utilitarian w...\n",
       "2  2023 Fashion Trend: Sheer Clothing. \"Bare it a...\n",
       "3  2023 Fashion Trend: Denim Reimagined. From dou...\n",
       "4  2023 Fashion Trend: Shine For The Daytime. The..."
      ]
     },
     "execution_count": 16,
     "metadata": {},
     "output_type": "execute_result"
    }
   ],
   "source": [
    "df = df.drop([\"URL\", \"Trends\", \"Source\"], axis=1)\n",
    "df.head()"
   ]
  },
  {
   "cell_type": "code",
   "execution_count": null,
   "id": "56df79ce",
   "metadata": {},
   "outputs": [],
   "source": []
  },
  {
   "cell_type": "markdown",
   "id": "ae769871",
   "metadata": {},
   "source": [
    "## Custom Query Completion\n",
    "\n",
    "TODO: In the cells below, compose a custom query using your chosen dataset and retrieve results from an OpenAI `Completion` model. You may copy and paste any useful code from the course materials."
   ]
  },
  {
   "cell_type": "code",
   "execution_count": 17,
   "id": "582f0656",
   "metadata": {},
   "outputs": [],
   "source": [
    "import openai\n",
    "openai.api_key = \"YOUR API KEY\"\n"
   ]
  },
  {
   "cell_type": "code",
   "execution_count": 19,
   "id": "8b6e1f75",
   "metadata": {},
   "outputs": [
    {
     "name": "stdout",
     "output_type": "stream",
     "text": [
      "Some current fashion trends include:\n",
      "\n",
      "1. Pastel colors and dainty floral prints: This trend has been seen in clothing items such as dresses, skirts, blouses, and accessories, giving a feminine and whimsical touch to outfits.\n",
      "\n",
      "2. Oversized and exaggerated silhouettes: In contrast to the dainty floral trend, oversized and exaggerated silhouettes are also very popular. This trend is seen in wide-leg pants, oversized blazers, and puffy sleeves.\n",
      "\n",
      "3. Sustainable and ethical fashion: With the rise of conscious consumerism, many people are gravitating towards brands that promote sustainability and ethical practices in their production process.\n",
      "\n",
      "4. 90's fashion comeback: The 90's are making a comeback in a big way, with\n"
     ]
    }
   ],
   "source": [
    "query = \"\"\"\n",
    "\"Tell me some of the current fashion trends.\"\n",
    "\n",
    "\"\"\"\n",
    "initial_answer = openai.Completion.create(\n",
    "    model=\"gpt-3.5-turbo-instruct\",\n",
    "    prompt=query,\n",
    "    max_tokens=150\n",
    ")[\"choices\"][0][\"text\"].strip()\n",
    "print(initial_answer)"
   ]
  },
  {
   "cell_type": "code",
   "execution_count": 32,
   "id": "13f2dcd7",
   "metadata": {},
   "outputs": [
    {
     "name": "stdout",
     "output_type": "stream",
     "text": [
      "As an AI, I do not have personal views or preferences on fashion items such as oversized bags. However, some people may find them practical and fashionable, while others may prefer smaller bags for convenience and style. Ultimately, personal preferences and needs should dictate one's choice of bag size.\n"
     ]
    }
   ],
   "source": [
    "query2 = \"\"\"\n",
    "\"what are your views about oversized bags?\"\n",
    "\n",
    "\"\"\"\n",
    "initial_answer2 = openai.Completion.create(\n",
    "    model=\"gpt-3.5-turbo-instruct\",\n",
    "    prompt=query2,\n",
    "    max_tokens=150\n",
    ")[\"choices\"][0][\"text\"].strip()\n",
    "print(initial_answer2)"
   ]
  },
  {
   "cell_type": "markdown",
   "id": "02dda02e",
   "metadata": {},
   "source": [
    "### Generating Embeddings"
   ]
  },
  {
   "cell_type": "code",
   "execution_count": 21,
   "id": "d331e2e9",
   "metadata": {},
   "outputs": [
    {
     "data": {
      "text/html": [
       "<div>\n",
       "<style scoped>\n",
       "    .dataframe tbody tr th:only-of-type {\n",
       "        vertical-align: middle;\n",
       "    }\n",
       "\n",
       "    .dataframe tbody tr th {\n",
       "        vertical-align: top;\n",
       "    }\n",
       "\n",
       "    .dataframe thead th {\n",
       "        text-align: right;\n",
       "    }\n",
       "</style>\n",
       "<table border=\"1\" class=\"dataframe\">\n",
       "  <thead>\n",
       "    <tr style=\"text-align: right;\">\n",
       "      <th></th>\n",
       "      <th>text</th>\n",
       "      <th>embeddings</th>\n",
       "    </tr>\n",
       "  </thead>\n",
       "  <tbody>\n",
       "    <tr>\n",
       "      <th>0</th>\n",
       "      <td>2023 Fashion Trend: Red. Glossy red hues took ...</td>\n",
       "      <td>[-0.02091320790350437, -0.0221004206687212, 0....</td>\n",
       "    </tr>\n",
       "    <tr>\n",
       "      <th>1</th>\n",
       "      <td>2023 Fashion Trend: Cargo Pants. Utilitarian w...</td>\n",
       "      <td>[-0.0020149529445916414, -0.028674710541963577...</td>\n",
       "    </tr>\n",
       "    <tr>\n",
       "      <th>2</th>\n",
       "      <td>2023 Fashion Trend: Sheer Clothing. \"Bare it a...</td>\n",
       "      <td>[-0.010423983447253704, -0.019243238493800163,...</td>\n",
       "    </tr>\n",
       "    <tr>\n",
       "      <th>3</th>\n",
       "      <td>2023 Fashion Trend: Denim Reimagined. From dou...</td>\n",
       "      <td>[-0.01556377299129963, -0.005445315036922693, ...</td>\n",
       "    </tr>\n",
       "    <tr>\n",
       "      <th>4</th>\n",
       "      <td>2023 Fashion Trend: Shine For The Daytime. The...</td>\n",
       "      <td>[-0.0049727242439985275, 0.0018100986490026116...</td>\n",
       "    </tr>\n",
       "    <tr>\n",
       "      <th>...</th>\n",
       "      <td>...</td>\n",
       "      <td>...</td>\n",
       "    </tr>\n",
       "    <tr>\n",
       "      <th>77</th>\n",
       "      <td>If lime green isn't your vibe, rest assured th...</td>\n",
       "      <td>[-0.002787756035104394, -0.018443888053297997,...</td>\n",
       "    </tr>\n",
       "    <tr>\n",
       "      <th>78</th>\n",
       "      <td>\"As someone who can clearly (not fondly) remem...</td>\n",
       "      <td>[-0.014679589308798313, -0.006451970897614956,...</td>\n",
       "    </tr>\n",
       "    <tr>\n",
       "      <th>79</th>\n",
       "      <td>\"Combine this design shift with the fact that ...</td>\n",
       "      <td>[-0.02078004740178585, -0.025108663365244865, ...</td>\n",
       "    </tr>\n",
       "    <tr>\n",
       "      <th>80</th>\n",
       "      <td>Thought party season ended at the stroke of mi...</td>\n",
       "      <td>[-0.019912881776690483, -0.02232169732451439, ...</td>\n",
       "    </tr>\n",
       "    <tr>\n",
       "      <th>81</th>\n",
       "      <td>\"This season, we saw the revival of the bubble...</td>\n",
       "      <td>[-0.030976248905062675, 0.001980679575353861, ...</td>\n",
       "    </tr>\n",
       "  </tbody>\n",
       "</table>\n",
       "<p>82 rows × 2 columns</p>\n",
       "</div>"
      ],
      "text/plain": [
       "                                                 text  \\\n",
       "0   2023 Fashion Trend: Red. Glossy red hues took ...   \n",
       "1   2023 Fashion Trend: Cargo Pants. Utilitarian w...   \n",
       "2   2023 Fashion Trend: Sheer Clothing. \"Bare it a...   \n",
       "3   2023 Fashion Trend: Denim Reimagined. From dou...   \n",
       "4   2023 Fashion Trend: Shine For The Daytime. The...   \n",
       "..                                                ...   \n",
       "77  If lime green isn't your vibe, rest assured th...   \n",
       "78  \"As someone who can clearly (not fondly) remem...   \n",
       "79  \"Combine this design shift with the fact that ...   \n",
       "80  Thought party season ended at the stroke of mi...   \n",
       "81  \"This season, we saw the revival of the bubble...   \n",
       "\n",
       "                                           embeddings  \n",
       "0   [-0.02091320790350437, -0.0221004206687212, 0....  \n",
       "1   [-0.0020149529445916414, -0.028674710541963577...  \n",
       "2   [-0.010423983447253704, -0.019243238493800163,...  \n",
       "3   [-0.01556377299129963, -0.005445315036922693, ...  \n",
       "4   [-0.0049727242439985275, 0.0018100986490026116...  \n",
       "..                                                ...  \n",
       "77  [-0.002787756035104394, -0.018443888053297997,...  \n",
       "78  [-0.014679589308798313, -0.006451970897614956,...  \n",
       "79  [-0.02078004740178585, -0.025108663365244865, ...  \n",
       "80  [-0.019912881776690483, -0.02232169732451439, ...  \n",
       "81  [-0.030976248905062675, 0.001980679575353861, ...  \n",
       "\n",
       "[82 rows x 2 columns]"
      ]
     },
     "execution_count": 21,
     "metadata": {},
     "output_type": "execute_result"
    }
   ],
   "source": [
    "EMBEDDING_MODEL_NAME = \"text-embedding-ada-002\"\n",
    "batch_size = 100\n",
    "embeddings = []\n",
    "for i in range(0, len(df), batch_size):\n",
    "    # Send text data to OpenAI model to get embeddings\n",
    "    response = openai.Embedding.create(\n",
    "        input=df.iloc[i:i+batch_size][\"text\"].tolist(),\n",
    "        engine=EMBEDDING_MODEL_NAME\n",
    "    )\n",
    "    \n",
    "    # Add embeddings to list\n",
    "    embeddings.extend([data[\"embedding\"] for data in response[\"data\"]])\n",
    "\n",
    "# Add embeddings list to dataframe\n",
    "df[\"embeddings\"] = embeddings\n",
    "df"
   ]
  },
  {
   "cell_type": "code",
   "execution_count": 22,
   "id": "8a0890a4",
   "metadata": {},
   "outputs": [],
   "source": [
    "df.to_csv(\"embeddings.csv\")"
   ]
  },
  {
   "cell_type": "code",
   "execution_count": null,
   "id": "1fddbc22",
   "metadata": {},
   "outputs": [],
   "source": [
    "##load the saved embeddings\n",
    "# import numpy as np\n",
    "# import pandas as pd\n",
    "# import openai\n",
    "# openai.api_key = \"YOUR API KEY\"\n",
    "# df = pd.read_csv(\"embeddings.csv\", index_col=0)\n",
    "# df[\"embeddings\"] = df[\"embeddings\"].apply(eval).apply(np.array)"
   ]
  },
  {
   "cell_type": "markdown",
   "id": "ed9933f4",
   "metadata": {},
   "source": [
    "### Create a Function that Finds Related Pieces of Text for a Given Question"
   ]
  },
  {
   "cell_type": "code",
   "execution_count": 23,
   "id": "0bee7ae9",
   "metadata": {},
   "outputs": [],
   "source": [
    "from openai.embeddings_utils import get_embedding, distances_from_embeddings\n",
    "\n",
    "def get_rows_sorted_by_relevance(question, df):\n",
    "    \"\"\"\n",
    "    Function that takes in a question string and a dataframe containing\n",
    "    rows of text and associated embeddings, and returns that dataframe\n",
    "    sorted from least to most relevant for that question\n",
    "    \"\"\"\n",
    "    \n",
    "    # Get embeddings for the question text\n",
    "    question_embeddings = get_embedding(question, engine=EMBEDDING_MODEL_NAME)\n",
    "    \n",
    "    # Make a copy of the dataframe and add a \"distances\" column containing\n",
    "    # the cosine distances between each row's embeddings and the\n",
    "    # embeddings of the question\n",
    "    df_copy = df.copy()\n",
    "    df_copy[\"distances\"] = distances_from_embeddings(\n",
    "        question_embeddings,\n",
    "        df_copy[\"embeddings\"].values,\n",
    "        distance_metric=\"cosine\"\n",
    "    )\n",
    "    \n",
    "    # Sort the copied dataframe by the distances and return it\n",
    "    # (shorter distance = more relevant so we sort in ascending order)\n",
    "    df_copy.sort_values(\"distances\", ascending=True, inplace=True)\n",
    "    return df_copy"
   ]
  },
  {
   "cell_type": "code",
   "execution_count": 25,
   "id": "e53df719",
   "metadata": {},
   "outputs": [
    {
     "data": {
      "text/html": [
       "<div>\n",
       "<style scoped>\n",
       "    .dataframe tbody tr th:only-of-type {\n",
       "        vertical-align: middle;\n",
       "    }\n",
       "\n",
       "    .dataframe tbody tr th {\n",
       "        vertical-align: top;\n",
       "    }\n",
       "\n",
       "    .dataframe thead th {\n",
       "        text-align: right;\n",
       "    }\n",
       "</style>\n",
       "<table border=\"1\" class=\"dataframe\">\n",
       "  <thead>\n",
       "    <tr style=\"text-align: right;\">\n",
       "      <th></th>\n",
       "      <th>text</th>\n",
       "      <th>embeddings</th>\n",
       "      <th>distances</th>\n",
       "    </tr>\n",
       "  </thead>\n",
       "  <tbody>\n",
       "    <tr>\n",
       "      <th>63</th>\n",
       "      <td>\"Every season, there is a trend that speaks to...</td>\n",
       "      <td>[-0.010844621807336807, -0.0187615305185318, 0...</td>\n",
       "      <td>0.147334</td>\n",
       "    </tr>\n",
       "    <tr>\n",
       "      <th>69</th>\n",
       "      <td>\"Leather jackets are leading the nouveau grung...</td>\n",
       "      <td>[-0.010504398494958878, 0.004069944843649864, ...</td>\n",
       "      <td>0.150229</td>\n",
       "    </tr>\n",
       "    <tr>\n",
       "      <th>44</th>\n",
       "      <td>I get it. Some of the trends on this list migh...</td>\n",
       "      <td>[-0.02170252613723278, -0.00854699406772852, 0...</td>\n",
       "      <td>0.153108</td>\n",
       "    </tr>\n",
       "    <tr>\n",
       "      <th>52</th>\n",
       "      <td>I won't waste your time by quoting perhaps the...</td>\n",
       "      <td>[-0.026084935292601585, -0.0006284265546128154...</td>\n",
       "      <td>0.154036</td>\n",
       "    </tr>\n",
       "    <tr>\n",
       "      <th>3</th>\n",
       "      <td>2023 Fashion Trend: Denim Reimagined. From dou...</td>\n",
       "      <td>[-0.01556377299129963, -0.005445315036922693, ...</td>\n",
       "      <td>0.154265</td>\n",
       "    </tr>\n",
       "    <tr>\n",
       "      <th>...</th>\n",
       "      <td>...</td>\n",
       "      <td>...</td>\n",
       "      <td>...</td>\n",
       "    </tr>\n",
       "    <tr>\n",
       "      <th>27</th>\n",
       "      <td>Sculptural Statement Earrings. For me, this sp...</td>\n",
       "      <td>[-0.03319217637181282, -0.004575403872877359, ...</td>\n",
       "      <td>0.211667</td>\n",
       "    </tr>\n",
       "    <tr>\n",
       "      <th>37</th>\n",
       "      <td>The-Bigger-the-Better Bags. Gone are the days ...</td>\n",
       "      <td>[-0.011404055170714855, -0.00373083190061152, ...</td>\n",
       "      <td>0.212682</td>\n",
       "    </tr>\n",
       "    <tr>\n",
       "      <th>47</th>\n",
       "      <td>\"Big bags have become a favourite among celebr...</td>\n",
       "      <td>[-0.016332661733031273, -0.003672473132610321,...</td>\n",
       "      <td>0.214896</td>\n",
       "    </tr>\n",
       "    <tr>\n",
       "      <th>18</th>\n",
       "      <td>Oversized Bags. As cute as they can be, tiny b...</td>\n",
       "      <td>[-0.0016611759783700109, -0.006377580109983683...</td>\n",
       "      <td>0.216499</td>\n",
       "    </tr>\n",
       "    <tr>\n",
       "      <th>78</th>\n",
       "      <td>\"As someone who can clearly (not fondly) remem...</td>\n",
       "      <td>[-0.014679589308798313, -0.006451970897614956,...</td>\n",
       "      <td>0.223425</td>\n",
       "    </tr>\n",
       "  </tbody>\n",
       "</table>\n",
       "<p>82 rows × 3 columns</p>\n",
       "</div>"
      ],
      "text/plain": [
       "                                                 text  \\\n",
       "63  \"Every season, there is a trend that speaks to...   \n",
       "69  \"Leather jackets are leading the nouveau grung...   \n",
       "44  I get it. Some of the trends on this list migh...   \n",
       "52  I won't waste your time by quoting perhaps the...   \n",
       "3   2023 Fashion Trend: Denim Reimagined. From dou...   \n",
       "..                                                ...   \n",
       "27  Sculptural Statement Earrings. For me, this sp...   \n",
       "37  The-Bigger-the-Better Bags. Gone are the days ...   \n",
       "47  \"Big bags have become a favourite among celebr...   \n",
       "18  Oversized Bags. As cute as they can be, tiny b...   \n",
       "78  \"As someone who can clearly (not fondly) remem...   \n",
       "\n",
       "                                           embeddings  distances  \n",
       "63  [-0.010844621807336807, -0.0187615305185318, 0...   0.147334  \n",
       "69  [-0.010504398494958878, 0.004069944843649864, ...   0.150229  \n",
       "44  [-0.02170252613723278, -0.00854699406772852, 0...   0.153108  \n",
       "52  [-0.026084935292601585, -0.0006284265546128154...   0.154036  \n",
       "3   [-0.01556377299129963, -0.005445315036922693, ...   0.154265  \n",
       "..                                                ...        ...  \n",
       "27  [-0.03319217637181282, -0.004575403872877359, ...   0.211667  \n",
       "37  [-0.011404055170714855, -0.00373083190061152, ...   0.212682  \n",
       "47  [-0.016332661733031273, -0.003672473132610321,...   0.214896  \n",
       "18  [-0.0016611759783700109, -0.006377580109983683...   0.216499  \n",
       "78  [-0.014679589308798313, -0.006451970897614956,...   0.223425  \n",
       "\n",
       "[82 rows x 3 columns]"
      ]
     },
     "execution_count": 25,
     "metadata": {},
     "output_type": "execute_result"
    }
   ],
   "source": [
    "get_rows_sorted_by_relevance(\"Tell me some of the current fashion trends.\", df)"
   ]
  },
  {
   "cell_type": "code",
   "execution_count": 33,
   "id": "1ea4fad1",
   "metadata": {},
   "outputs": [
    {
     "data": {
      "text/html": [
       "<div>\n",
       "<style scoped>\n",
       "    .dataframe tbody tr th:only-of-type {\n",
       "        vertical-align: middle;\n",
       "    }\n",
       "\n",
       "    .dataframe tbody tr th {\n",
       "        vertical-align: top;\n",
       "    }\n",
       "\n",
       "    .dataframe thead th {\n",
       "        text-align: right;\n",
       "    }\n",
       "</style>\n",
       "<table border=\"1\" class=\"dataframe\">\n",
       "  <thead>\n",
       "    <tr style=\"text-align: right;\">\n",
       "      <th></th>\n",
       "      <th>text</th>\n",
       "      <th>embeddings</th>\n",
       "      <th>distances</th>\n",
       "    </tr>\n",
       "  </thead>\n",
       "  <tbody>\n",
       "    <tr>\n",
       "      <th>18</th>\n",
       "      <td>Oversized Bags. As cute as they can be, tiny b...</td>\n",
       "      <td>[-0.0016611759783700109, -0.006377580109983683...</td>\n",
       "      <td>0.132477</td>\n",
       "    </tr>\n",
       "    <tr>\n",
       "      <th>46</th>\n",
       "      <td>Fashion likes to work in extremes; typically, ...</td>\n",
       "      <td>[-0.01917867176234722, 0.01022076141089201, 0....</td>\n",
       "      <td>0.141630</td>\n",
       "    </tr>\n",
       "    <tr>\n",
       "      <th>37</th>\n",
       "      <td>The-Bigger-the-Better Bags. Gone are the days ...</td>\n",
       "      <td>[-0.011404055170714855, -0.00373083190061152, ...</td>\n",
       "      <td>0.145274</td>\n",
       "    </tr>\n",
       "    <tr>\n",
       "      <th>47</th>\n",
       "      <td>\"Big bags have become a favourite among celebr...</td>\n",
       "      <td>[-0.016332661733031273, -0.003672473132610321,...</td>\n",
       "      <td>0.174127</td>\n",
       "    </tr>\n",
       "    <tr>\n",
       "      <th>7</th>\n",
       "      <td>Sculptural Bags That Make a Simple Statement. ...</td>\n",
       "      <td>[-0.02700844779610634, -0.0009346861625090241,...</td>\n",
       "      <td>0.189130</td>\n",
       "    </tr>\n",
       "    <tr>\n",
       "      <th>...</th>\n",
       "      <td>...</td>\n",
       "      <td>...</td>\n",
       "      <td>...</td>\n",
       "    </tr>\n",
       "    <tr>\n",
       "      <th>26</th>\n",
       "      <td>Bright White Footwear. I'm excited to lighten ...</td>\n",
       "      <td>[0.00034077218151651323, -0.028603384271264076...</td>\n",
       "      <td>0.269073</td>\n",
       "    </tr>\n",
       "    <tr>\n",
       "      <th>16</th>\n",
       "      <td>New-School Fringe. Fringe has long been associ...</td>\n",
       "      <td>[-0.011781425215303898, -0.004968275316059589,...</td>\n",
       "      <td>0.269547</td>\n",
       "    </tr>\n",
       "    <tr>\n",
       "      <th>36</th>\n",
       "      <td>Ruby Slippers. Late last year, I suddenly deci...</td>\n",
       "      <td>[-0.003469462739303708, -0.02925957553088665, ...</td>\n",
       "      <td>0.277454</td>\n",
       "    </tr>\n",
       "    <tr>\n",
       "      <th>43</th>\n",
       "      <td>Interesting metallics were a standout trend fo...</td>\n",
       "      <td>[-0.027828814461827278, 0.012844579294323921, ...</td>\n",
       "      <td>0.278099</td>\n",
       "    </tr>\n",
       "    <tr>\n",
       "      <th>6</th>\n",
       "      <td>2023 Fashion Trend: Cobalt Blue. The strongest...</td>\n",
       "      <td>[-0.007016030605882406, -0.021430544555187225,...</td>\n",
       "      <td>0.281016</td>\n",
       "    </tr>\n",
       "  </tbody>\n",
       "</table>\n",
       "<p>82 rows × 3 columns</p>\n",
       "</div>"
      ],
      "text/plain": [
       "                                                 text  \\\n",
       "18  Oversized Bags. As cute as they can be, tiny b...   \n",
       "46  Fashion likes to work in extremes; typically, ...   \n",
       "37  The-Bigger-the-Better Bags. Gone are the days ...   \n",
       "47  \"Big bags have become a favourite among celebr...   \n",
       "7   Sculptural Bags That Make a Simple Statement. ...   \n",
       "..                                                ...   \n",
       "26  Bright White Footwear. I'm excited to lighten ...   \n",
       "16  New-School Fringe. Fringe has long been associ...   \n",
       "36  Ruby Slippers. Late last year, I suddenly deci...   \n",
       "43  Interesting metallics were a standout trend fo...   \n",
       "6   2023 Fashion Trend: Cobalt Blue. The strongest...   \n",
       "\n",
       "                                           embeddings  distances  \n",
       "18  [-0.0016611759783700109, -0.006377580109983683...   0.132477  \n",
       "46  [-0.01917867176234722, 0.01022076141089201, 0....   0.141630  \n",
       "37  [-0.011404055170714855, -0.00373083190061152, ...   0.145274  \n",
       "47  [-0.016332661733031273, -0.003672473132610321,...   0.174127  \n",
       "7   [-0.02700844779610634, -0.0009346861625090241,...   0.189130  \n",
       "..                                                ...        ...  \n",
       "26  [0.00034077218151651323, -0.028603384271264076...   0.269073  \n",
       "16  [-0.011781425215303898, -0.004968275316059589,...   0.269547  \n",
       "36  [-0.003469462739303708, -0.02925957553088665, ...   0.277454  \n",
       "43  [-0.027828814461827278, 0.012844579294323921, ...   0.278099  \n",
       "6   [-0.007016030605882406, -0.021430544555187225,...   0.281016  \n",
       "\n",
       "[82 rows x 3 columns]"
      ]
     },
     "execution_count": 33,
     "metadata": {},
     "output_type": "execute_result"
    }
   ],
   "source": [
    "get_rows_sorted_by_relevance(\"what are your views about oversized bags?\", df)"
   ]
  },
  {
   "cell_type": "markdown",
   "id": "da9e6653",
   "metadata": {},
   "source": [
    "### Create a Function that Composes a Text Prompt"
   ]
  },
  {
   "cell_type": "code",
   "execution_count": 24,
   "id": "e5db7d72",
   "metadata": {},
   "outputs": [],
   "source": [
    "import tiktoken\n",
    "\n",
    "def create_prompt(question, df, max_token_count):\n",
    "    \"\"\"\n",
    "    Given a question and a dataframe containing rows of text and their\n",
    "    embeddings, return a text prompt to send to a Completion model\n",
    "    \"\"\"\n",
    "    # Create a tokenizer that is designed to align with our embeddings\n",
    "    tokenizer = tiktoken.get_encoding(\"cl100k_base\")\n",
    "    \n",
    "    # Count the number of tokens in the prompt template and question\n",
    "    prompt_template = \"\"\"\n",
    "Answer the question based on the context below, and if the question\n",
    "can't be answered based on the context, say \"I don't know\"\n",
    "\n",
    "Context: \n",
    "\n",
    "{}\n",
    "\n",
    "---\n",
    "\n",
    "Question: {}\n",
    "Answer:\"\"\"\n",
    "    \n",
    "    current_token_count = len(tokenizer.encode(prompt_template)) + \\\n",
    "                            len(tokenizer.encode(question))\n",
    "    \n",
    "    context = []\n",
    "    for text in get_rows_sorted_by_relevance(question, df)[\"text\"].values:\n",
    "        \n",
    "        # Increase the counter based on the number of tokens in this row\n",
    "        text_token_count = len(tokenizer.encode(text))\n",
    "        current_token_count += text_token_count\n",
    "        \n",
    "        # Add the row of text to the list if we haven't exceeded the max\n",
    "        if current_token_count <= max_token_count:\n",
    "            context.append(text)\n",
    "        else:\n",
    "            break\n",
    "\n",
    "    return prompt_template.format(\"\\n\\n###\\n\\n\".join(context), question)"
   ]
  },
  {
   "cell_type": "code",
   "execution_count": 27,
   "id": "5ca70b5c",
   "metadata": {},
   "outputs": [
    {
     "name": "stdout",
     "output_type": "stream",
     "text": [
      "\n",
      "Answer the question based on the context below, and if the question\n",
      "can't be answered based on the context, say \"I don't know\"\n",
      "\n",
      "Context: \n",
      "\n",
      "\"Every season, there is a trend that speaks to the inner maximalist in us. While autumn gave us lurid neons, biker boots and Y2K glamour, spring/summer 2023 presents something a little sweeter, and those with an aversion to all things 'pretty,' consider this your warning to look away now,\" says Remy Farrell, shopping editor at Who What Wear UK.\n",
      "\n",
      "###\n",
      "\n",
      "\"Leather jackets are leading the nouveau grunge trend, with Masha Popova, Knwls and Gucci bringing strong seasonal updates,\" says Gramston. See? Easy!\n",
      "\n",
      "---\n",
      "\n",
      "Question: Tell me some of the current fashion trends.\n",
      "Answer:\n"
     ]
    }
   ],
   "source": [
    "print(create_prompt(\"Tell me some of the current fashion trends.\", df, 200))"
   ]
  },
  {
   "cell_type": "code",
   "execution_count": 31,
   "id": "fc465a3c",
   "metadata": {},
   "outputs": [
    {
     "name": "stdout",
     "output_type": "stream",
     "text": [
      "\n",
      "Answer the question based on the context below, and if the question\n",
      "can't be answered based on the context, say \"I don't know\"\n",
      "\n",
      "Context: \n",
      "\n",
      "Oversized Bags. As cute as they can be, tiny bags aren’t the most practical accessories. But we’ve got great news: Brands supersized their purses this spring, showing styles that have plenty of room for groceries, laptops, hardcover books, and pretty much anything else you could want on your person. If you’re on the hunt for a new work bag, this is your sign that bigger is officially better.\n",
      "\n",
      "---\n",
      "\n",
      "Question: what are your views about oversized bags?\n",
      "Answer:\n"
     ]
    }
   ],
   "source": [
    "print(create_prompt(\"what are your views about oversized bags?\", df, 200))"
   ]
  },
  {
   "cell_type": "markdown",
   "id": "b42c670f",
   "metadata": {},
   "source": [
    "### Create a Function that Answers a Question"
   ]
  },
  {
   "cell_type": "code",
   "execution_count": 34,
   "id": "80c17e0e",
   "metadata": {},
   "outputs": [],
   "source": [
    "COMPLETION_MODEL_NAME = \"gpt-3.5-turbo-instruct\"\n",
    "\n",
    "def answer_question(\n",
    "    question, df, max_prompt_tokens=1800, max_answer_tokens=150\n",
    "):\n",
    "    \"\"\"\n",
    "    Given a question, a dataframe containing rows of text, and a maximum\n",
    "    number of desired tokens in the prompt and response, return the\n",
    "    answer to the question according to an OpenAI Completion model\n",
    "    \n",
    "    If the model produces an error, return an empty string\n",
    "    \"\"\"\n",
    "    \n",
    "    prompt = create_prompt(question, df, max_prompt_tokens)\n",
    "    \n",
    "    try:\n",
    "        response = openai.Completion.create(\n",
    "            model=COMPLETION_MODEL_NAME,\n",
    "            prompt=prompt,\n",
    "            max_tokens=max_answer_tokens\n",
    "        )\n",
    "        return response[\"choices\"][0][\"text\"].strip()\n",
    "    except Exception as e:\n",
    "        print(e)\n",
    "        return \"\""
   ]
  },
  {
   "cell_type": "code",
   "execution_count": null,
   "id": "930e3c47",
   "metadata": {},
   "outputs": [],
   "source": [
    "\n"
   ]
  },
  {
   "cell_type": "markdown",
   "id": "1783f146",
   "metadata": {},
   "source": [
    "## Custom Performance Demonstration\n",
    "\n",
    "TODO: In the cells below, demonstrate the performance of your custom query using at least 2 questions. For each question, show the answer from a basic `Completion` model query as well as the answer from your custom query."
   ]
  },
  {
   "cell_type": "markdown",
   "id": "4f11fdc0",
   "metadata": {},
   "source": [
    "### Question 1"
   ]
  },
  {
   "cell_type": "code",
   "execution_count": 35,
   "id": "4901c850",
   "metadata": {},
   "outputs": [
    {
     "name": "stdout",
     "output_type": "stream",
     "text": [
      "Some current fashion trends include maximalist styles, grunge inspired fashion, tailored looks, daytime shine (sequins for daytime wear), mesh clothing, cobalt blue, drop earrings, sheer clothing and the color green.\n"
     ]
    }
   ],
   "source": [
    "custom_answer = answer_question(\"Tell me some of the current fashion trends.\", df)\n",
    "print(custom_answer)"
   ]
  },
  {
   "cell_type": "code",
   "execution_count": null,
   "id": "bd7a093b",
   "metadata": {},
   "outputs": [],
   "source": []
  },
  {
   "cell_type": "markdown",
   "id": "6e86e37c",
   "metadata": {},
   "source": [
    "### Question 2"
   ]
  },
  {
   "cell_type": "code",
   "execution_count": 36,
   "id": "6f646989",
   "metadata": {},
   "outputs": [
    {
     "name": "stdout",
     "output_type": "stream",
     "text": [
      "It appears that the speaker's views about oversized bags are positive, as they state that brands have \"supersized\" their purses and that bigger bags are now considered better. They also mention \"enormous totes\" being in trend and give examples of celebrities carrying them.\n"
     ]
    }
   ],
   "source": [
    "custom_answer2 = answer_question(\"what are your views about oversized bags?\", df)\n",
    "print(custom_answer2)"
   ]
  },
  {
   "cell_type": "code",
   "execution_count": null,
   "id": "11c07a54",
   "metadata": {},
   "outputs": [],
   "source": []
  },
  {
   "cell_type": "markdown",
   "id": "7adfcd2a",
   "metadata": {},
   "source": [
    "### Comparisons of answers with and without context"
   ]
  },
  {
   "cell_type": "code",
   "execution_count": 41,
   "id": "989cb380",
   "metadata": {},
   "outputs": [
    {
     "name": "stdout",
     "output_type": "stream",
     "text": [
      "\n",
      "Tell me some of the current fashion trends.\n",
      "\n",
      "Original Answer: Some current fashion trends include:\n",
      "\n",
      "1. Pastel colors and dainty floral prints: This trend has been seen in clothing items such as dresses, skirts, blouses, and accessories, giving a feminine and whimsical touch to outfits.\n",
      "\n",
      "2. Oversized and exaggerated silhouettes: In contrast to the dainty floral trend, oversized and exaggerated silhouettes are also very popular. This trend is seen in wide-leg pants, oversized blazers, and puffy sleeves.\n",
      "\n",
      "3. Sustainable and ethical fashion: With the rise of conscious consumerism, many people are gravitating towards brands that promote sustainability and ethical practices in their production process.\n",
      "\n",
      "4. 90's fashion comeback: The 90's are making a comeback in a big way, with\n",
      "\n",
      "\n",
      "Custom Answer:   Some current fashion trends include maximalist styles, grunge inspired fashion, tailored looks, daytime shine (sequins for daytime wear), mesh clothing, cobalt blue, drop earrings, sheer clothing and the color green.\n",
      "\n",
      "---\n",
      "\n",
      "what are your views about oversized bags?\n",
      "Original Answer: As an AI, I do not have personal views or preferences on fashion items such as oversized bags. However, some people may find them practical and fashionable, while others may prefer smaller bags for convenience and style. Ultimately, personal preferences and needs should dictate one's choice of bag size.\n",
      "\n",
      "\n",
      "Custom Answer:   It appears that the speaker's views about oversized bags are positive, as they state that brands have \"supersized\" their purses and that bigger bags are now considered better. They also mention \"enormous totes\" being in trend and give examples of celebrities carrying them.\n",
      "\n"
     ]
    }
   ],
   "source": [
    "print(f\"\"\"\n",
    "Tell me some of the current fashion trends.\n",
    "\n",
    "Original Answer: {initial_answer}\n",
    "\\n\\nCustom Answer:   {custom_answer}\n",
    "\n",
    "---\n",
    "\n",
    "what are your views about oversized bags?\n",
    "Original Answer: {initial_answer2}\n",
    "\\n\\nCustom Answer:   {custom_answer2}\n",
    "\"\"\")"
   ]
  },
  {
   "cell_type": "code",
   "execution_count": null,
   "id": "d35ec8e5",
   "metadata": {},
   "outputs": [],
   "source": []
  }
 ],
 "metadata": {
  "kernelspec": {
   "display_name": "Python 3 (ipykernel)",
   "language": "python",
   "name": "python3"
  },
  "language_info": {
   "codemirror_mode": {
    "name": "ipython",
    "version": 3
   },
   "file_extension": ".py",
   "mimetype": "text/x-python",
   "name": "python",
   "nbconvert_exporter": "python",
   "pygments_lexer": "ipython3",
   "version": "3.9.18"
  }
 },
 "nbformat": 4,
 "nbformat_minor": 5
}
