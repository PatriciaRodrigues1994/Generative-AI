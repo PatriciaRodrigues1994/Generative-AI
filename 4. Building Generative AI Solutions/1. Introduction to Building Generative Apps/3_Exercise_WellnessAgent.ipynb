{
 "cells": [
  {
   "cell_type": "markdown",
   "metadata": {},
   "source": [
    "In this exercise, we'll explore creating a wellness agent using ReACT Prompting techniques\n",
    "\n",
    "You'll focus on crafting the system message in this exercise.  The system message sets the behavior of the model, and this is where you'll instruct it to be a ReACT agent. "
   ]
  },
  {
   "cell_type": "code",
   "execution_count": 1,
   "metadata": {},
   "outputs": [],
   "source": [
    "# Importing the library for OpenAI API\n",
    "import openai\n",
    "\n",
    "# Define OpenAI API key \n",
    "api_key = \"YOUR_API_KEY\"\n",
    "openai.api_key = api_key"
   ]
  },
  {
   "cell_type": "markdown",
   "metadata": {},
   "source": [
    "Create a user prompt that will hold the user input we'll send the agent.  Experiment with this prompt to see how the agent responds to different inputs. "
   ]
  },
  {
   "cell_type": "code",
   "execution_count": 2,
   "metadata": {},
   "outputs": [
    {
     "name": "stdout",
     "output_type": "stream",
     "text": [
      "How can I know my diet is improving my wellness?\n"
     ]
    }
   ],
   "source": [
    "# Creating the prompt\n",
    "user_prompt = f\"How can I know my diet is improving my wellness?\"\n",
    "print(user_prompt)"
   ]
  },
  {
   "cell_type": "markdown",
   "metadata": {},
   "source": [
    "Now work on crafting a ReACT Prompt using this starter template.  The prompt will be long and be as detailed and specific as you can.  Feel free to create a different type of agent.  \n",
    "\n",
    "Provide an example in the prompt of real output you expect in order to guide the LLM's response.  The LLM will use this as a one-shot prompt, and it's output will be similiar to the example you provide.    "
   ]
  },
  {
   "cell_type": "code",
   "execution_count": null,
   "metadata": {},
   "outputs": [],
   "source": [
    "ReACT_prompt= \"\"\" Your goal is to ..... by interleaving thought, action, and observation steps.\n",
    "              (Thought Step) Instructions to the LLM for the thought step\n",
    "              (Action Steps) Action[Input or Data] - Describe the action and where the data or input for the action comes from.\n",
    "                             Action[Input or Data] - Describe the action and where the data or input for the action comes from.\n",
    "                             Action[Input or Data] - Describe the action and where the data or input for the action comes from.\n",
    "              (Observation Step) Describe the output or result of the action.\n",
    "              Repeat these steps N times until ... \n",
    "              Example: \n",
    "              [User Query] Provide an example user query / input\n",
    "              (Thought) An example thought  \n",
    "              Example Action [Example Data or input], \n",
    "              Example Action [Example Data or input]. \n",
    "              Example Action [Example Data or input]\n",
    "              (Example Observation) Example observation or output\"\"\""
   ]
  },
  {
   "cell_type": "code",
   "execution_count": null,
   "metadata": {},
   "outputs": [],
   "source": []
  },
  {
   "cell_type": "code",
   "execution_count": 3,
   "metadata": {},
   "outputs": [
    {
     "name": "stdout",
     "output_type": "stream",
     "text": [
      "Wellness Agent Response: \n",
      "(Thought) The user is seeking guidance on how to determine if their diet is positively impacting their wellness.\n",
      "\n",
      "Collect[Details about user's current diet]: Can you provide some information about what your typical meals consist of and any recent changes you've made to your diet?\n",
      "\n",
      "Provide[Wellness Information]: A good way to assess if your diet is improving your wellness is to track how you feel physically and mentally after making dietary changes. Look out for improvements in energy levels, mood, digestion, and sleep quality. You could also consider consulting a nutritionist or healthcare provider for a more in-depth analysis.\n",
      "\n",
      "Recommend[Plan]: To measure the impact of your diet on your wellness, keep a food journal to track what you eat and how it makes you feel. Pay attention to any patterns or correlations between your food choices and your overall well-being. Additionally, consider incorporating more whole foods, fruits, vegetables, lean proteins, and whole grains into your meals for a well-rounded and nutritious diet.\n",
      "\n",
      "Observation Step: How do you feel after meals? Are there any specific foods that make you feel more energized or sluggish? Starting a food journal might help you identify how your diet influences your wellness. Would you like to discuss specific dietary changes or goals you have in mind?\n"
     ]
    }
   ],
   "source": [
    "# Function to call the OpenAI GPT-3.5 API\n",
    "def wellness_agent(user_prompt):\n",
    "    try:\n",
    "        # Calling the OpenAI API with a system message and our prompt in the user message content\n",
    "        # Use openai.ChatCompletion.create for openai < 1.0\n",
    "        # openai.chat.completions.create for openai > 1.0\n",
    "        response = openai.ChatCompletion.create(\n",
    "          model=\"gpt-3.5-turbo\",\n",
    "          messages=[\n",
    "          {\n",
    "            \"role\": \"system\",\n",
    "            \"content\": \"\"\"Your goal is to improve the wellness of the user by interleaving thought, action, and observation steps.\n",
    "              (Thought Step) Begin by assessing the user's current wellness situation. Consider factors like their reported diet, exercise habits, mental health status, and any specific wellness goals they have shared.\n",
    "              (Action Steps) Collect[Data from user] - Engage with the user to gather essential wellness information, data, or metrics. This can include dietary habits, fitness routines, stress levels, sleep patterns, and wellness objectives. \n",
    "                             Provide[Wellness Information] - Based on the collected data and current wellness trends, offer knowledge and insights about nutrition, exercise regimes, mental wellness practices, and relevant biological or medical information that supports and improves wellness. \n",
    "                             Recommend[Plan] - Conclude with a tailored recommendation or a specific action plan that the user can implement to enhance their wellness. This could be a dietary change, a new exercise, a mental relaxation technique, or a suggestion to consult a healthcare professional for more personalized advice. \n",
    "              (Observation Step) Respond to the user with the Action Steps, and observe the user's response and engagement. Gauge their understanding and willingness to follow the suggestions. Be ready to offer further clarification or alternative recommendations if needed.\n",
    "              Repeat these steps N times until the user's wellness has improved.\n",
    "              Example: \n",
    "              [User Query] I'm feeling stressed and not sleeping well. What can I do to improve my sleep? \n",
    "              (Thought) User is experiencing stress and poor sleep, likely interconnected issues. \n",
    "              Collect[Details about user's current stressors and sleep habits], \n",
    "              Provide[Information on relaxation techniques and sleep hygiene practices]. \n",
    "              Recommend)[Plan] Consider trying meditation before bed and establishing a regular sleep schedule. \n",
    "              What are some current stressors in your life? How many hours of sleep do you get each night?\n",
    "              Have you tried meditation before bed? Do you have a regular sleep schedule?\n",
    "              Consider trying meditation before bed and establishing a regular sleep schedule.\n",
    "              Let's create a plan to meditate for 10 minutes before bed each night this week.\n",
    "              What are some other wellness goals you have or wellness issues you are experiencing?\n",
    "              \"\"\"\n",
    "          },\n",
    "          {\n",
    "            \"role\": \"user\",\n",
    "            \"content\": user_prompt\n",
    "          }\n",
    "          ],\n",
    "        temperature=1,\n",
    "        max_tokens=512,\n",
    "        top_p=1,\n",
    "        frequency_penalty=0,\n",
    "        presence_penalty=0\n",
    "        )\n",
    "        # The response is a JSON object containing more information than the response. We want to return only the message content\n",
    "        return response.choices[0].message.content\n",
    "    except Exception as e:\n",
    "        return f\"An error occurred: {e}\"\n",
    "\n",
    "# Running the wellness agent\n",
    "run_wellness_agent = wellness_agent(user_prompt)\n",
    "\n",
    "# Printing the output. \n",
    "print(\"Wellness Agent Response: \")\n",
    "print(run_wellness_agent)"
   ]
  },
  {
   "cell_type": "code",
   "execution_count": null,
   "metadata": {},
   "outputs": [],
   "source": []
  }
 ],
 "metadata": {
  "kernelspec": {
   "display_name": "Python 3 (ipykernel)",
   "language": "python",
   "name": "python3"
  },
  "language_info": {
   "codemirror_mode": {
    "name": "ipython",
    "version": 3
   },
   "file_extension": ".py",
   "mimetype": "text/x-python",
   "name": "python",
   "nbconvert_exporter": "python",
   "pygments_lexer": "ipython3",
   "version": "3.10.13"
  }
 },
 "nbformat": 4,
 "nbformat_minor": 2
}
