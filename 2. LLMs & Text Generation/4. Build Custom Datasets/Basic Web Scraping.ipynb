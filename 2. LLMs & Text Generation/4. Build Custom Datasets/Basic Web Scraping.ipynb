{
 "cells": [
  {
   "cell_type": "code",
   "execution_count": 1,
   "id": "10a0a18a",
   "metadata": {
    "executionInfo": {
     "elapsed": 361,
     "status": "ok",
     "timestamp": 1686585154187,
     "user": {
      "displayName": "Huimin Yang",
      "userId": "07232227308317772902"
     },
     "user_tz": 420
    },
    "id": "10a0a18a"
   },
   "outputs": [],
   "source": [
    "import requests\n",
    "from bs4 import BeautifulSoup"
   ]
  },
  {
   "cell_type": "code",
   "execution_count": 2,
   "id": "a098e315",
   "metadata": {
    "executionInfo": {
     "elapsed": 990,
     "status": "ok",
     "timestamp": 1686585173995,
     "user": {
      "displayName": "Huimin Yang",
      "userId": "07232227308317772902"
     },
     "user_tz": 420
    },
    "id": "a098e315"
   },
   "outputs": [],
   "source": [
    "url = 'https://archive.org/details/cu31924067841738'\n",
    "response = requests.get(url)\n",
    "\n",
    "with open(\"language_of_flowers.html\", mode='wb') as file:\n",
    "    file.write(response.content)"
   ]
  },
  {
   "cell_type": "code",
   "execution_count": 3,
   "id": "0020663b",
   "metadata": {
    "executionInfo": {
     "elapsed": 211,
     "status": "ok",
     "timestamp": 1686585175651,
     "user": {
      "displayName": "Huimin Yang",
      "userId": "07232227308317772902"
     },
     "user_tz": 420
    },
    "id": "0020663b",
    "scrolled": true
   },
   "outputs": [],
   "source": [
    "with open(\"language_of_flowers.html\") as fp:\n",
    "    flower_soup = BeautifulSoup(fp, 'html.parser')"
   ]
  },
  {
   "cell_type": "code",
   "execution_count": 12,
   "id": "9c4b5646",
   "metadata": {
    "id": "9c4b5646"
   },
   "outputs": [],
   "source": [
    "#flower_soup"
   ]
  },
  {
   "cell_type": "code",
   "execution_count": 13,
   "id": "141b9a38",
   "metadata": {
    "id": "141b9a38"
   },
   "outputs": [],
   "source": [
    "#Print a clean (prettier) version to look through\n",
    "#print(flower_soup.prettify())"
   ]
  },
  {
   "cell_type": "code",
   "execution_count": 6,
   "id": "05e7c7d9",
   "metadata": {
    "colab": {
     "base_uri": "https://localhost:8080/"
    },
    "executionInfo": {
     "elapsed": 169,
     "status": "ok",
     "timestamp": 1686585213015,
     "user": {
      "displayName": "Huimin Yang",
      "userId": "07232227308317772902"
     },
     "user_tz": 420
    },
    "id": "05e7c7d9",
    "outputId": "1e615d70-9979-45c6-acbb-13b604b9cf21"
   },
   "outputs": [
    {
     "name": "stdout",
     "output_type": "stream",
     "text": [
      "<title>The language of flowers; or flora symbolica. Including floral poetry, original and selected. With original illustrations, printed in colours by Terry : Ingram, John Henry, 1842-1916 : Free Download, Borrow, and Streaming : Internet Archive</title>\n"
     ]
    }
   ],
   "source": [
    "book_title = flower_soup.find(\"title\")\n",
    "print(book_title)"
   ]
  },
  {
   "cell_type": "code",
   "execution_count": 7,
   "id": "a8c248ce",
   "metadata": {
    "colab": {
     "base_uri": "https://localhost:8080/"
    },
    "executionInfo": {
     "elapsed": 169,
     "status": "ok",
     "timestamp": 1686585217015,
     "user": {
      "displayName": "Huimin Yang",
      "userId": "07232227308317772902"
     },
     "user_tz": 420
    },
    "id": "a8c248ce",
    "outputId": "730842e3-8a7a-4021-c4bc-0c05fa0e4e02"
   },
   "outputs": [
    {
     "name": "stdout",
     "output_type": "stream",
     "text": [
      "The language of flowers; or flora symbolica. Including floral poetry, original and selected. With original illustrations, printed in colours by Terry : Ingram, John Henry, 1842-1916 : Free Download, Borrow, and Streaming : Internet Archive\n"
     ]
    }
   ],
   "source": [
    "book_title = book_title.text.strip()\n",
    "print(book_title)"
   ]
  },
  {
   "cell_type": "code",
   "execution_count": 8,
   "id": "fad4bd99",
   "metadata": {
    "colab": {
     "base_uri": "https://localhost:8080/"
    },
    "executionInfo": {
     "elapsed": 180,
     "status": "ok",
     "timestamp": 1686585220665,
     "user": {
      "displayName": "Huimin Yang",
      "userId": "07232227308317772902"
     },
     "user_tz": 420
    },
    "id": "fad4bd99",
    "outputId": "69f17767-bf93-423c-e042-8723b872d1ba"
   },
   "outputs": [
    {
     "name": "stdout",
     "output_type": "stream",
     "text": [
      "['We will keep fighting for all libraries - stand with us!', 'Search the history of over 866 billion\\n          web pages\\n          on the Internet.', 'Capture a web page as it appears now for use as a trusted citation in the future.', 'Please enter a valid web address', '37,823\\n\\n        Views', '467\\nFavorites', '1\\n            Review', 'For users with print-disabilities', 'Uploaded by\\n                  \\n            hank_b          \\n        \\n                  on November 7, 2009']\n"
     ]
    }
   ],
   "source": [
    "#Find the tag\n",
    "collection_items = [item.text.strip() for item in flower_soup.find_all(\"p\")]\n",
    "print(collection_items)"
   ]
  },
  {
   "cell_type": "code",
   "execution_count": 9,
   "id": "d923d783",
   "metadata": {
    "colab": {
     "base_uri": "https://localhost:8080/"
    },
    "executionInfo": {
     "elapsed": 177,
     "status": "ok",
     "timestamp": 1686585232227,
     "user": {
      "displayName": "Huimin Yang",
      "userId": "07232227308317772902"
     },
     "user_tz": 420
    },
    "id": "d923d783",
    "outputId": "72c1014f-5b46-4185-87b5-85477ec87feb"
   },
   "outputs": [
    {
     "name": "stdout",
     "output_type": "stream",
     "text": [
      "hank_b\n"
     ]
    }
   ],
   "source": [
    "uploader_name = flower_soup.find(\"a\", class_=\"item-upload-info__uploader-name\")\n",
    "print(uploader_name.text.strip())"
   ]
  },
  {
   "cell_type": "code",
   "execution_count": 10,
   "id": "3c9bd86b",
   "metadata": {
    "colab": {
     "base_uri": "https://localhost:8080/"
    },
    "executionInfo": {
     "elapsed": 182,
     "status": "ok",
     "timestamp": 1686585236918,
     "user": {
      "displayName": "Huimin Yang",
      "userId": "07232227308317772902"
     },
     "user_tz": 420
    },
    "id": "3c9bd86b",
    "outputId": "c8a161d4-2c68-48d9-9a56-7cf537b619ed"
   },
   "outputs": [
    {
     "name": "stdout",
     "output_type": "stream",
     "text": [
      "[<a class=\"collection-item\" data-event-click-tracking=\"CollectionList|cornell\" href=\"/details/cornell\">\n",
      "          Cornell University Library                      <img aria-label=\"cornell\" class=\"item-img\" loading=\"lazy\" src=\"/services/img/cornell\"/>\n",
      "</a>, <a class=\"collection-item\" data-event-click-tracking=\"CollectionList|americana\" href=\"/details/americana\">\n",
      "          American Libraries                      <img aria-label=\"americana\" class=\"item-img\" loading=\"lazy\" src=\"/services/img/americana\"/>\n",
      "</a>]\n"
     ]
    }
   ],
   "source": [
    "#Find the tag\n",
    "collection_items = flower_soup.find_all(\"a\", class_=\"collection-item\")\n",
    "print(collection_items)"
   ]
  },
  {
   "cell_type": "code",
   "execution_count": 11,
   "id": "5d3e0429",
   "metadata": {
    "colab": {
     "base_uri": "https://localhost:8080/"
    },
    "executionInfo": {
     "elapsed": 183,
     "status": "ok",
     "timestamp": 1686585244215,
     "user": {
      "displayName": "Huimin Yang",
      "userId": "07232227308317772902"
     },
     "user_tz": 420
    },
    "id": "5d3e0429",
    "outputId": "5e84efea-38cb-4d5c-e9b5-287f99f9e03b"
   },
   "outputs": [
    {
     "name": "stdout",
     "output_type": "stream",
     "text": [
      "Cornell University Library\n",
      "American Libraries\n"
     ]
    }
   ],
   "source": [
    "for item in collection_items:\n",
    "    print(item.text.strip())"
   ]
  },
  {
   "cell_type": "code",
   "execution_count": null,
   "id": "a2ce25b4",
   "metadata": {},
   "outputs": [],
   "source": []
  }
 ],
 "metadata": {
  "colab": {
   "provenance": []
  },
  "kernelspec": {
   "display_name": "Python 3 (ipykernel)",
   "language": "python",
   "name": "python3"
  },
  "language_info": {
   "codemirror_mode": {
    "name": "ipython",
    "version": 3
   },
   "file_extension": ".py",
   "mimetype": "text/x-python",
   "name": "python",
   "nbconvert_exporter": "python",
   "pygments_lexer": "ipython3",
   "version": "3.10.13"
  }
 },
 "nbformat": 4,
 "nbformat_minor": 5
}
